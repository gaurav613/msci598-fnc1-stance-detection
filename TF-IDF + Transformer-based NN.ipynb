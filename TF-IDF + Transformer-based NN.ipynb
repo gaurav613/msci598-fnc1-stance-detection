{
 "cells": [
  {
   "cell_type": "markdown",
   "id": "ca473912",
   "metadata": {},
   "source": [
    "### MSCI 598 - Final Project\n",
    "### Gaurav Mudbhatkal - 20747018"
   ]
  },
  {
   "cell_type": "code",
   "execution_count": 1,
   "id": "b24e8de7",
   "metadata": {},
   "outputs": [],
   "source": [
    "import torch\n",
    "import torch.optim as optim\n",
    "from torch.utils.data import DataLoader, WeightedRandomSampler, random_split\n",
    "import torch.nn.functional as F\n",
    "\n",
    "import os\n",
    "\n",
    "from utils.model import StanceDetectionModel\n",
    "\n",
    "from utils.data import FNCDataset, pipeline_train, pipeline_test\n",
    "\n",
    "from utils.config import VECTOR_SIZE, DROPOUT, BATCH_SIZE, LEARNING_RATE, WEIGHT_DECAY, EPOCHS, LABEL_MAP_REV, DATA_PATH\n",
    "\n",
    "from utils.util import save_predictions, get_weights"
   ]
  },
  {
   "cell_type": "markdown",
   "id": "23fc0ab7",
   "metadata": {},
   "source": [
    "#### Data Processing"
   ]
  },
  {
   "cell_type": "code",
   "execution_count": 2,
   "id": "94f5a3f2",
   "metadata": {},
   "outputs": [],
   "source": [
    "# 1、load data\n",
    "train_all_dataset = FNCDataset(mode='train')\n",
    "test_dataset = FNCDataset(mode='test')"
   ]
  },
  {
   "cell_type": "code",
   "execution_count": 3,
   "id": "ae2a958d",
   "metadata": {},
   "outputs": [],
   "source": [
    "# 2. vectorizing the test set\n",
    "bow_vectorizer, tfreq_vectorizer, tfidf_vectorizer = \\\n",
    "    pipeline_train(train_all_dataset, test_dataset, vector_size=VECTOR_SIZE)\n",
    "pipeline_test(test_dataset, bow_vectorizer, tfreq_vectorizer, tfidf_vectorizer)\n",
    "\n",
    "# set train and validation split\n",
    "train_len = int(len(train_all_dataset) * 9 / 10)\n",
    "validation_len = len(train_all_dataset) - train_len"
   ]
  },
  {
   "cell_type": "markdown",
   "id": "c9268299",
   "metadata": {},
   "source": [
    "#### Linear Transformer-based Neural Network"
   ]
  },
  {
   "cell_type": "code",
   "execution_count": 4,
   "id": "c3593453",
   "metadata": {},
   "outputs": [],
   "source": [
    "# set dataloader to deal with large dataset\n",
    "test_data_loader = DataLoader(dataset=test_dataset, batch_size=1, shuffle=False)\n",
    "\n",
    "# initialize model, with embedding size = 2*(tf-vector lengts)\n",
    "model = StanceDetectionModel(2 * VECTOR_SIZE + 1, DROPOUT)\n",
    "\n",
    "# change dtype of parameters to double\n",
    "model.double()\n",
    "\n",
    "# apply optimization function \n",
    "optimizer = optim.Adam(model.parameters(), lr=LEARNING_RATE, weight_decay=WEIGHT_DECAY)"
   ]
  },
  {
   "cell_type": "code",
   "execution_count": 12,
   "id": "4b204009",
   "metadata": {},
   "outputs": [
    {
     "name": "stdout",
     "output_type": "stream",
     "text": [
      "Training for 10 epochs:\n",
      "\n",
      "Epoch: 1/10\n",
      "Batch 10，loss: 0.7538174375554952\n",
      "Batch 20，loss: 0.713780906882942\n",
      "Batch 30，loss: 0.7348586399587551\n",
      "Batch 40，loss: 0.7358222265579444\n",
      "Batch 50，loss: 0.7452451749036275\n",
      "Batch 60，loss: 0.745458265871319\n",
      "Batch 70，loss: 0.7350000018935036\n",
      "Batch 80，loss: 0.7388229636805952\n",
      "Batch 90，loss: 0.7453841897736718\n",
      "Val_loss = 1.2408263306307512, Val_Accuracy = 0.9667867146858744\n",
      "Epoch: 2/10\n",
      "Batch 10，loss: 0.7104971453895181\n",
      "Batch 20，loss: 0.7518597295353655\n",
      "Batch 30，loss: 0.7107708183822955\n",
      "Batch 40，loss: 0.7526918760813296\n",
      "Batch 50，loss: 0.7500789728714219\n",
      "Batch 60，loss: 0.7769605608576181\n",
      "Batch 70，loss: 0.7780066964635762\n",
      "Batch 80，loss: 0.6895468101296224\n",
      "Batch 90，loss: 0.7695223707987754\n",
      "Val_loss = 1.180382000005335, Val_Accuracy = 0.9685874349739896\n",
      "Epoch: 3/10\n",
      "Batch 10，loss: 0.7537508357182275\n",
      "Batch 20，loss: 0.7818539712963922\n",
      "Batch 30，loss: 0.7773429349681126\n",
      "Batch 40，loss: 0.7602088522047136\n",
      "Batch 50，loss: 0.7910105445614849\n",
      "Batch 60，loss: 0.712020845951635\n",
      "Batch 70，loss: 0.7132640575081373\n",
      "Batch 80，loss: 0.7146765862112477\n",
      "Batch 90，loss: 0.7162519764784803\n",
      "Val_loss = 1.3646982537381112, Val_Accuracy = 0.9597839135654261\n",
      "Epoch: 4/10\n",
      "Batch 10，loss: 0.7013210354442899\n",
      "Batch 20，loss: 0.816025737862633\n",
      "Batch 30，loss: 0.7782569083809631\n",
      "Batch 40，loss: 0.7460515741928668\n",
      "Batch 50，loss: 0.7690815585708286\n",
      "Batch 60，loss: 0.7253699277817065\n",
      "Batch 70，loss: 0.7346038335088763\n",
      "Batch 80，loss: 0.760819149168201\n",
      "Batch 90，loss: 0.7349262125835274\n",
      "Val_loss = 1.134572918169206, Val_Accuracy = 0.9673869547819127\n",
      "Epoch: 5/10\n",
      "Batch 10，loss: 0.6827633048332314\n",
      "Batch 20，loss: 0.7424455837410322\n",
      "Batch 30，loss: 0.6625189953252717\n",
      "Batch 40，loss: 0.7553205902275516\n",
      "Batch 50，loss: 0.722082495232939\n",
      "Batch 60，loss: 0.7588207325471403\n",
      "Batch 70，loss: 0.7719158126408633\n",
      "Batch 80，loss: 0.740523360007179\n",
      "Batch 90，loss: 0.7166449494669584\n",
      "Val_loss = 1.1335897184936394, Val_Accuracy = 0.97218887555022\n",
      "Epoch: 6/10\n",
      "Batch 10，loss: 0.7616153901031953\n",
      "Batch 20，loss: 0.747023717245768\n",
      "Batch 30，loss: 0.7596860981646936\n",
      "Batch 40，loss: 0.8321369353596894\n",
      "Batch 50，loss: 0.745269410373338\n",
      "Batch 60，loss: 0.7070283290058462\n",
      "Batch 70，loss: 0.7677872459365265\n",
      "Batch 80，loss: 0.7022325416613203\n",
      "Batch 90，loss: 0.8045141758429096\n",
      "Val_loss = 1.110062483826845, Val_Accuracy = 0.9675870348139256\n",
      "Epoch: 7/10\n",
      "Batch 10，loss: 0.7583771286229682\n",
      "Batch 20，loss: 0.7236795747680886\n",
      "Batch 30，loss: 0.798076734105858\n",
      "Batch 40，loss: 0.7152347752035687\n",
      "Batch 50，loss: 0.7396565448089617\n",
      "Batch 60，loss: 0.7977240635716941\n",
      "Batch 70，loss: 0.7149006626636351\n",
      "Batch 80，loss: 0.7450311830099695\n",
      "Batch 90，loss: 0.72834296573889\n",
      "Val_loss = 1.154648470818461, Val_Accuracy = 0.9689875950380152\n",
      "Epoch: 8/10\n",
      "Batch 10，loss: 0.7476988964097254\n",
      "Batch 20，loss: 0.7200384692559831\n",
      "Batch 30，loss: 0.7909254376091532\n",
      "Batch 40，loss: 0.7753162061548742\n",
      "Batch 50，loss: 0.7383712166063688\n",
      "Batch 60，loss: 0.7470456085952183\n",
      "Batch 70，loss: 0.7715760875963474\n",
      "Batch 80，loss: 0.7166094262522308\n",
      "Batch 90，loss: 0.7086118182311572\n",
      "Val_loss = 1.2142737605178928, Val_Accuracy = 0.9647859143657463\n",
      "Epoch: 9/10\n",
      "Batch 10，loss: 0.7171748553129593\n",
      "Batch 20，loss: 0.7655261934057719\n",
      "Batch 30，loss: 0.7826037287572233\n",
      "Batch 40，loss: 0.7716146654318581\n",
      "Batch 50，loss: 0.6978527531639794\n",
      "Batch 60，loss: 0.7492747385728135\n",
      "Batch 70，loss: 0.7414211002599479\n",
      "Batch 80，loss: 0.7328784777425492\n",
      "Batch 90，loss: 0.7749720636611306\n",
      "Val_loss = 1.256633208025436, Val_Accuracy = 0.963985594237695\n",
      "Epoch: 10/10\n",
      "Batch 10，loss: 0.7903699200447831\n",
      "Batch 20，loss: 0.7958558861488755\n",
      "Batch 30，loss: 0.7342063129413398\n",
      "Batch 40，loss: 0.7446345863869823\n",
      "Batch 50，loss: 0.7266849573537335\n",
      "Batch 60，loss: 0.7616810350546995\n",
      "Batch 70，loss: 0.7069753441066154\n",
      "Batch 80，loss: 0.7726641312329489\n",
      "Batch 90，loss: 0.7394718354908816\n",
      "Val_loss = 1.118552683041977, Val_Accuracy = 0.97218887555022\n"
     ]
    }
   ],
   "source": [
    "import matplotlib.pyplot as plt\n",
    "\n",
    "# function to plot losses later\n",
    "def my_plot(epochs, loss):\n",
    "    plt.plot(epochs, loss)\n",
    "\n",
    "# initialize losses\n",
    "loss_vals =  []\n",
    "\n",
    "# BATCHSIZE = 500\n",
    "# DROPOUT = 0.6\n",
    "# EPOCHS = 10\n",
    "# training the model - train + validate\n",
    "print(\"Training for {} epochs:\\n\".format(EPOCHS))\n",
    "for epoch in range(EPOCHS):\n",
    "    \n",
    "    # in each epoch, the given training set is split into train and validation set\n",
    "    train_dataset, validation_dataset = \\\n",
    "        random_split(dataset=train_all_dataset, lengths=[train_len, validation_len])\n",
    "    \n",
    "    # obtain weights for stances\n",
    "    weights = get_weights(train_dataset)\n",
    "    \n",
    "    # use weighted resampling to balance the dataset\n",
    "    sampler = WeightedRandomSampler(weights=weights, num_samples=len(train_dataset), replacement=True)\n",
    "    \n",
    "    # set dataloaders for train and test sets, due to it being large\n",
    "    train_data_loader = DataLoader(dataset=train_dataset, batch_size=BATCH_SIZE, shuffle=False, sampler=sampler)\n",
    "    validation_data_loader = DataLoader(dataset=validation_dataset, batch_size=BATCH_SIZE, shuffle=True)\n",
    "    \n",
    "    # train nn model\n",
    "    model.train()\n",
    "    \n",
    "    print('Epoch: {}/{}'.format(epoch + 1, EPOCHS))\n",
    "    epoch_loss = []\n",
    "    # calculating loss for a batch\n",
    "    for index, (headline_body_pair, label) in enumerate(train_data_loader, start=1):\n",
    "        # setting gradients to zero before loss calculation\n",
    "        optimizer.zero_grad()\n",
    "        # predict the stance \n",
    "        output = model(headline_body_pair)\n",
    "        # calculate loss - using negative log likelihood loss\n",
    "        loss = F.nll_loss(output, label)\n",
    "        # calculate loss gradient for parameters\n",
    "        loss.backward()\n",
    "        epoch_loss.append(loss.item())\n",
    "        # update parameters\n",
    "        optimizer.step()\n",
    "        if index % 10 == 0:\n",
    "            print('Batch {}，loss: {}'.format(index, loss.item()))\n",
    "    loss_vals.append(sum(epoch_loss)/len(epoch_loss))\n",
    "    \n",
    "    # validation\n",
    "    model.eval()\n",
    "    # initialize loss, total correct predictions\n",
    "    val_loss = 0\n",
    "    n_correct = 0\n",
    "    for index, (headline_body_pair, label) in enumerate(validation_data_loader, start=1):\n",
    "        with torch.no_grad():\n",
    "            output = model(headline_body_pair)\n",
    "            loss = F.nll_loss(output, label)\n",
    "            val_loss += loss.item()\n",
    "            predict = output.argmax(dim=1)\n",
    "            n_correct += predict.eq(label).sum().item()\n",
    "    print('Val_loss = {}, Val_Accuracy = {}'.format(val_loss, 1.0 * n_correct / validation_len))"
   ]
  },
  {
   "cell_type": "code",
   "execution_count": 6,
   "id": "14eb5ad3",
   "metadata": {},
   "outputs": [
    {
     "data": {
      "image/png": "[encoded data removed]",
      "text/plain": [
       "<Figure size 432x288 with 1 Axes>"
      ]
     },
     "metadata": {
      "needs_background": "light"
     },
     "output_type": "display_data"
    }
   ],
   "source": [
    "# plotting loss across the epochs\n",
    "import numpy as np\n",
    "my_plot(np.linspace(1, EPOCHS, EPOCHS).astype(int), loss_vals)"
   ]
  },
  {
   "cell_type": "code",
   "execution_count": 13,
   "id": "a15354c1",
   "metadata": {},
   "outputs": [],
   "source": [
    "# predict stances for test set\n",
    "model.eval()\n",
    "predictions = []\n",
    "for text, label, prev_text, prev_label in test_data_loader:\n",
    "    with torch.no_grad():\n",
    "        output = model(text)\n",
    "        predict = output.max(dim=-1)[-1].item()\n",
    "        predict = LABEL_MAP_REV[predict]\n",
    "        predictions.append(predict)\n"
   ]
  },
  {
   "cell_type": "code",
   "execution_count": 8,
   "id": "00610a1b",
   "metadata": {},
   "outputs": [
    {
     "name": "stdout",
     "output_type": "stream",
     "text": [
      "Reading dataset\n",
      "Total stances: 25413\n",
      "Total bodies: 904\n"
     ]
    }
   ],
   "source": [
    "from utils.dataset import DataSet\n",
    "from utils.score import report_score, LABELS, score_submission\n",
    "competition_dataset = DataSet(\"competition_test\")\n",
    "def generate_features(stances,dataset,name):\n",
    "    h, b, y = [],[],[]\n",
    "\n",
    "    for stance in stances:\n",
    "        y.append(LABELS.index(stance['Stance']))\n",
    "        h.append(stance['Headline'])\n",
    "        b.append(dataset.articles[stance['Body ID']])\n",
    "    return y\n",
    "y_competition = generate_features(competition_dataset.stances, competition_dataset, \"competition\")\n",
    "actual = [LABELS[int(a)] for a in y_competition]"
   ]
  },
  {
   "cell_type": "code",
   "execution_count": 14,
   "id": "69597b65",
   "metadata": {},
   "outputs": [
    {
     "name": "stdout",
     "output_type": "stream",
     "text": [
      "-------------------------------------------------------------\n",
      "|           |   agree   | disagree  |  discuss  | unrelated |\n",
      "-------------------------------------------------------------\n",
      "|   agree   |    968    |    113    |    694    |    128    |\n",
      "-------------------------------------------------------------\n",
      "| disagree  |    204    |    149    |    224    |    120    |\n",
      "-------------------------------------------------------------\n",
      "|  discuss  |    678    |    230    |   3280    |    276    |\n",
      "-------------------------------------------------------------\n",
      "| unrelated |    46     |    11     |    249    |   18043   |\n",
      "-------------------------------------------------------------\n",
      "Score: 9443.5 out of 11651.25\t(81.05138933590817%)\n"
     ]
    },
    {
     "data": {
      "text/plain": [
       "81.05138933590817"
      ]
     },
     "execution_count": 14,
     "metadata": {},
     "output_type": "execute_result"
    }
   ],
   "source": [
    "report_score(actual,predictions)"
   ]
  },
  {
   "cell_type": "code",
   "execution_count": 10,
   "id": "d7fafc9b",
   "metadata": {},
   "outputs": [
    {
     "data": {
      "text/plain": [
       "'fnc_torchviz.png'"
      ]
     },
     "execution_count": 10,
     "metadata": {},
     "output_type": "execute_result"
    }
   ],
   "source": [
    "## visualize model\n",
    "from torchviz import make_dot\n",
    "\n",
    "batch = next(iter(DataLoader(dataset=train_all_dataset, batch_size=BATCH_SIZE, shuffle=False, sampler=sampler)))\n",
    "yhat = model(batch[0])\n",
    "\n",
    "make_dot(yhat, params=dict(list(model.named_parameters()))).render(\"fnc_torchviz\", format=\"png\")"
   ]
  },
  {
   "cell_type": "code",
   "execution_count": 19,
   "id": "aa49ff4c",
   "metadata": {},
   "outputs": [
    {
     "data": {
      "text/plain": [
       "(0.6290312416448645, 0.6101335503490104)"
      ]
     },
     "execution_count": 19,
     "metadata": {},
     "output_type": "execute_result"
    }
   ],
   "source": [
    "from sklearn.metrics import precision_score, recall_score\n",
    "precision_score(actual,predictions, average='macro'), recall_score(actual,predictions, average='macro')"
   ]
  },
  {
   "cell_type": "code",
   "execution_count": 20,
   "id": "9c2656c2",
   "metadata": {},
   "outputs": [],
   "source": [
    "with open(\"transformer_predictions.csv\",\"w\") as f:\n",
    "    for prediction in predictions:\n",
    "        f.write(prediction + \"\\n\")"
   ]
  },
  {
   "cell_type": "code",
   "execution_count": null,
   "id": "76348fb4",
   "metadata": {},
   "outputs": [],
   "source": []
  }
 ],
 "metadata": {
  "kernelspec": {
   "display_name": "Python 3 (ipykernel)",
   "language": "python",
   "name": "python3"
  },
  "language_info": {
   "codemirror_mode": {
    "name": "ipython",
    "version": 3
   },
   "file_extension": ".py",
   "mimetype": "text/x-python",
   "name": "python",
   "nbconvert_exporter": "python",
   "pygments_lexer": "ipython3",
   "version": "3.10.4"
  }
 },
 "nbformat": 4,
 "nbformat_minor": 5
}
