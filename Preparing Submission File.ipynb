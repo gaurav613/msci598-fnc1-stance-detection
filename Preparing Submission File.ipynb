{
 "cells": [
  {
   "cell_type": "code",
   "execution_count": 1,
   "id": "e59507a4",
   "metadata": {},
   "outputs": [],
   "source": [
    "import pandas as pd"
   ]
  },
  {
   "cell_type": "code",
   "execution_count": 2,
   "id": "5a34d903",
   "metadata": {},
   "outputs": [],
   "source": [
    "competition_unlabeled = pd.read_csv(\"../fnc-1-data/competition_test_stances_unlabeled.csv\")\n",
    "preds = pd.read_csv(\"transformer_predictions.csv\",header=None)\n",
    "preds.columns = ['Stance'] "
   ]
  },
  {
   "cell_type": "code",
   "execution_count": 3,
   "id": "597f9ea6",
   "metadata": {},
   "outputs": [],
   "source": [
    "answers_df = pd.concat([competition_unlabeled, preds],axis=1)"
   ]
  },
  {
   "cell_type": "code",
   "execution_count": 4,
   "id": "d574add7",
   "metadata": {},
   "outputs": [
    {
     "data": {
      "text/html": [
       "<div>\n",
       "<style scoped>\n",
       "    .dataframe tbody tr th:only-of-type {\n",
       "        vertical-align: middle;\n",
       "    }\n",
       "\n",
       "    .dataframe tbody tr th {\n",
       "        vertical-align: top;\n",
       "    }\n",
       "\n",
       "    .dataframe thead th {\n",
       "        text-align: right;\n",
       "    }\n",
       "</style>\n",
       "<table border=\"1\" class=\"dataframe\">\n",
       "  <thead>\n",
       "    <tr style=\"text-align: right;\">\n",
       "      <th></th>\n",
       "      <th>Headline</th>\n",
       "      <th>Body ID</th>\n",
       "      <th>Stance</th>\n",
       "    </tr>\n",
       "  </thead>\n",
       "  <tbody>\n",
       "    <tr>\n",
       "      <th>0</th>\n",
       "      <td>Ferguson riots: Pregnant woman loses eye after...</td>\n",
       "      <td>2008</td>\n",
       "      <td>unrelated</td>\n",
       "    </tr>\n",
       "    <tr>\n",
       "      <th>1</th>\n",
       "      <td>Crazy Conservatives Are Sure a Gitmo Detainee ...</td>\n",
       "      <td>1550</td>\n",
       "      <td>unrelated</td>\n",
       "    </tr>\n",
       "    <tr>\n",
       "      <th>2</th>\n",
       "      <td>A Russian Guy Says His Justin Bieber Ringtone ...</td>\n",
       "      <td>2</td>\n",
       "      <td>unrelated</td>\n",
       "    </tr>\n",
       "    <tr>\n",
       "      <th>3</th>\n",
       "      <td>Zombie Cat: Buried Kitty Believed Dead, Meows ...</td>\n",
       "      <td>1793</td>\n",
       "      <td>unrelated</td>\n",
       "    </tr>\n",
       "    <tr>\n",
       "      <th>4</th>\n",
       "      <td>Argentina's President Adopts Boy to End Werewo...</td>\n",
       "      <td>37</td>\n",
       "      <td>unrelated</td>\n",
       "    </tr>\n",
       "    <tr>\n",
       "      <th>...</th>\n",
       "      <td>...</td>\n",
       "      <td>...</td>\n",
       "      <td>...</td>\n",
       "    </tr>\n",
       "    <tr>\n",
       "      <th>25408</th>\n",
       "      <td>The success of the Affordable Care Act is a hu...</td>\n",
       "      <td>2582</td>\n",
       "      <td>discuss</td>\n",
       "    </tr>\n",
       "    <tr>\n",
       "      <th>25409</th>\n",
       "      <td>The success of the Affordable Care Act is a hu...</td>\n",
       "      <td>2583</td>\n",
       "      <td>disagree</td>\n",
       "    </tr>\n",
       "    <tr>\n",
       "      <th>25410</th>\n",
       "      <td>The success of the Affordable Care Act is a hu...</td>\n",
       "      <td>2584</td>\n",
       "      <td>unrelated</td>\n",
       "    </tr>\n",
       "    <tr>\n",
       "      <th>25411</th>\n",
       "      <td>The success of the Affordable Care Act is a hu...</td>\n",
       "      <td>2585</td>\n",
       "      <td>disagree</td>\n",
       "    </tr>\n",
       "    <tr>\n",
       "      <th>25412</th>\n",
       "      <td>The success of the Affordable Care Act is a hu...</td>\n",
       "      <td>2586</td>\n",
       "      <td>disagree</td>\n",
       "    </tr>\n",
       "  </tbody>\n",
       "</table>\n",
       "<p>25413 rows × 3 columns</p>\n",
       "</div>"
      ],
      "text/plain": [
       "                                                Headline  Body ID     Stance\n",
       "0      Ferguson riots: Pregnant woman loses eye after...     2008  unrelated\n",
       "1      Crazy Conservatives Are Sure a Gitmo Detainee ...     1550  unrelated\n",
       "2      A Russian Guy Says His Justin Bieber Ringtone ...        2  unrelated\n",
       "3      Zombie Cat: Buried Kitty Believed Dead, Meows ...     1793  unrelated\n",
       "4      Argentina's President Adopts Boy to End Werewo...       37  unrelated\n",
       "...                                                  ...      ...        ...\n",
       "25408  The success of the Affordable Care Act is a hu...     2582    discuss\n",
       "25409  The success of the Affordable Care Act is a hu...     2583   disagree\n",
       "25410  The success of the Affordable Care Act is a hu...     2584  unrelated\n",
       "25411  The success of the Affordable Care Act is a hu...     2585   disagree\n",
       "25412  The success of the Affordable Care Act is a hu...     2586   disagree\n",
       "\n",
       "[25413 rows x 3 columns]"
      ]
     },
     "execution_count": 4,
     "metadata": {},
     "output_type": "execute_result"
    }
   ],
   "source": [
    "answers_df"
   ]
  },
  {
   "cell_type": "code",
   "execution_count": 5,
   "id": "81387b08",
   "metadata": {},
   "outputs": [],
   "source": [
    "answers_df.to_csv('answer.csv', index=False, encoding='utf-8')"
   ]
  },
  {
   "cell_type": "code",
   "execution_count": null,
   "id": "54e4f5e4",
   "metadata": {},
   "outputs": [],
   "source": []
  }
 ],
 "metadata": {
  "kernelspec": {
   "display_name": "Python 3 (ipykernel)",
   "language": "python",
   "name": "python3"
  },
  "language_info": {
   "codemirror_mode": {
    "name": "ipython",
    "version": 3
   },
   "file_extension": ".py",
   "mimetype": "text/x-python",
   "name": "python",
   "nbconvert_exporter": "python",
   "pygments_lexer": "ipython3",
   "version": "3.10.4"
  }
 },
 "nbformat": 4,
 "nbformat_minor": 5
}
