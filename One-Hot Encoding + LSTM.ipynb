{
 "cells": [
  {
   "cell_type": "markdown",
   "id": "ecb35b48",
   "metadata": {},
   "source": [
    "### MSCI 598 - Final Project\n",
    "### Gaurav Mudbhatkal - 20747018"
   ]
  },
  {
   "cell_type": "code",
   "execution_count": 1,
   "id": "34fa6803",
   "metadata": {},
   "outputs": [],
   "source": [
    "import pandas as pd\n",
    "import numpy as np\n",
    "import os\n",
    "from keras.preprocessing.sequence import pad_sequences\n",
    "from keras.preprocessing.text import Tokenizer\n",
    "\n",
    "from keras.models import Input,Model,Sequential\n",
    "from keras.layers import LSTM,Embedding,Dropout,Activation,Reshape,Dense,GRU,Add,Flatten,concatenate\n",
    "\n",
    "from keras.preprocessing.text import one_hot\n",
    "from keras.preprocessing.sequence import pad_sequences"
   ]
  },
  {
   "cell_type": "code",
   "execution_count": 2,
   "id": "530d25e6",
   "metadata": {},
   "outputs": [
    {
     "name": "stdout",
     "output_type": "stream",
     "text": [
      "Reading dataset\n",
      "Total stances: 49972\n",
      "Total bodies: 1683\n"
     ]
    }
   ],
   "source": [
    "from feature_engineering import refuting_features, polarity_features, hand_features, gen_or_load_feats\n",
    "from feature_engineering import word_overlap_features\n",
    "from feature_engineering import clean, normalize_word, get_tokenized_lemmas, remove_stopwords\n",
    "from utils.dataset import DataSet\n",
    "from utils.generate_test_splits import kfold_split, get_stances_for_folds\n",
    "from utils.score import report_score, LABELS, score_submission\n",
    "\n",
    "from utils.system import parse_params, check_version\n",
    "\n",
    "d = DataSet()"
   ]
  },
  {
   "cell_type": "markdown",
   "id": "258610a8",
   "metadata": {},
   "source": [
    "#### Data Processing"
   ]
  },
  {
   "cell_type": "code",
   "execution_count": 3,
   "id": "cac8e45a",
   "metadata": {},
   "outputs": [
    {
     "name": "stderr",
     "output_type": "stream",
     "text": [
      "49972it [00:00, 2084388.40it/s]\n"
     ]
    }
   ],
   "source": [
    "from tqdm import tqdm\n",
    "def get_data(stances, dataset):\n",
    "    h, b, y = [], [], []\n",
    "    for stance in stances:\n",
    "        y.append(LABELS.index(stance['Stance']))\n",
    "        h.append(stance['Headline'])\n",
    "        b.append(dataset.articles[stance['Body ID']])\n",
    "    X = []\n",
    "    headlines = []\n",
    "    bodies = []\n",
    "    for i, (headline, body) in tqdm(enumerate(zip(h, b))):\n",
    "        headlines.append(headline)\n",
    "        bodies.append(body)\n",
    "    df = pd.DataFrame(list(zip(headlines,bodies, y)), columns=['headlines','bodies','stances'])\n",
    "    return df\n",
    "df = get_data(d.stances,d)"
   ]
  },
  {
   "cell_type": "code",
   "execution_count": 5,
   "id": "0738cbfd",
   "metadata": {},
   "outputs": [
    {
     "name": "stdout",
     "output_type": "stream",
     "text": [
      "Vocabulary Length is 64510\n"
     ]
    }
   ],
   "source": [
    "fnc_df = df\n",
    "corpus = np.r_[fnc_df['headlines'].values,fnc_df['bodies'].values]\n",
    "\n",
    "vocabulary = []\n",
    "for sentence in corpus:\n",
    "    vocabulary.extend(sentence.split(' '))\n",
    "\n",
    "vocabulary = list(set(vocabulary))\n",
    "vocab_length = len(vocabulary)\n",
    "print(\"Vocabulary Length is {0}\".format(vocab_length))"
   ]
  },
  {
   "cell_type": "code",
   "execution_count": 6,
   "id": "edb29b01",
   "metadata": {},
   "outputs": [],
   "source": [
    "max_features = 5000\n",
    "max_nb_words = 24000\n",
    "EMBEDDING_DIM = 50\n",
    "MAX_SEQUENCE_LENGTH_HEADLINE = 100\n",
    "MAX_SEQUENCE_LENGTH_BODY = 100"
   ]
  },
  {
   "cell_type": "code",
   "execution_count": 7,
   "id": "987caf8f",
   "metadata": {},
   "outputs": [],
   "source": [
    "# one-hot encoding\n",
    "encoded_docs_headline = [one_hot(sentence,vocab_length) for sentence in fnc_df.loc[:,'headlines'].tolist()]\n",
    "padded_docs_headline = pad_sequences(encoded_docs_headline,MAX_SEQUENCE_LENGTH_HEADLINE,padding='post')\n",
    "\n",
    "encoded_docs_body = [one_hot(sentence,vocab_length) for sentence in fnc_df.loc[:,'bodies'].tolist()]\n",
    "padded_docs_body = pad_sequences(encoded_docs_body,MAX_SEQUENCE_LENGTH_BODY,padding='post')\n",
    "\n",
    "from keras.utils.np_utils import to_categorical \n",
    "labels = to_categorical(fnc_df.loc[:,'stances'])"
   ]
  },
  {
   "cell_type": "markdown",
   "id": "1cb1cec5",
   "metadata": {},
   "source": [
    "#### LSTM with Two Inputs"
   ]
  },
  {
   "cell_type": "code",
   "execution_count": 8,
   "id": "81a53a9d",
   "metadata": {},
   "outputs": [],
   "source": [
    "# separate layers for headlines and bodies\n",
    "headline_input = Input(shape=[MAX_SEQUENCE_LENGTH_HEADLINE],name='headline_input')\n",
    "\n",
    "headline_embedding = Embedding(vocab_length,50,input_length = MAX_SEQUENCE_LENGTH_HEADLINE)(headline_input)\n",
    "\n",
    "body_input = Input(shape=[MAX_SEQUENCE_LENGTH_BODY],name='body_input')\n",
    "\n",
    "body_embedding = Embedding(vocab_length,50,input_length = MAX_SEQUENCE_LENGTH_BODY)(body_input)\n",
    "\n",
    "# concatenate layers\n",
    "layer_concat = concatenate([headline_embedding,body_embedding])\n",
    "\n",
    "lstm = LSTM(units=64)(layer_concat)\n",
    "\n",
    "output = Dense(4,activation='softmax')(lstm)\n",
    "\n",
    "model_combined = Model(inputs=[headline_input,body_input],outputs=output)\n",
    "\n",
    "model_combined.compile(optimizer = 'adam',loss ='categorical_crossentropy',metrics = ['accuracy'])"
   ]
  },
  {
   "cell_type": "code",
   "execution_count": 9,
   "id": "b4a823c0",
   "metadata": {},
   "outputs": [
    {
     "name": "stdout",
     "output_type": "stream",
     "text": [
      "Model: \"model\"\n",
      "__________________________________________________________________________________________________\n",
      " Layer (type)                   Output Shape         Param #     Connected to                     \n",
      "==================================================================================================\n",
      " headline_input (InputLayer)    [(None, 100)]        0           []                               \n",
      "                                                                                                  \n",
      " body_input (InputLayer)        [(None, 100)]        0           []                               \n",
      "                                                                                                  \n",
      " embedding (Embedding)          (None, 100, 50)      3225500     ['headline_input[0][0]']         \n",
      "                                                                                                  \n",
      " embedding_1 (Embedding)        (None, 100, 50)      3225500     ['body_input[0][0]']             \n",
      "                                                                                                  \n",
      " concatenate (Concatenate)      (None, 100, 100)     0           ['embedding[0][0]',              \n",
      "                                                                  'embedding_1[0][0]']            \n",
      "                                                                                                  \n",
      " lstm (LSTM)                    (None, 64)           42240       ['concatenate[0][0]']            \n",
      "                                                                                                  \n",
      " dense (Dense)                  (None, 4)            260         ['lstm[0][0]']                   \n",
      "                                                                                                  \n",
      "==================================================================================================\n",
      "Total params: 6,493,500\n",
      "Trainable params: 6,493,500\n",
      "Non-trainable params: 0\n",
      "__________________________________________________________________________________________________\n"
     ]
    }
   ],
   "source": [
    "model_combined.summary()"
   ]
  },
  {
   "cell_type": "code",
   "execution_count": 10,
   "id": "dc0afb12",
   "metadata": {},
   "outputs": [
    {
     "data": {
      "image/png": "[encoded data removed]",
      "text/plain": [
       "<IPython.core.display.Image object>"
      ]
     },
     "execution_count": 10,
     "metadata": {},
     "output_type": "execute_result"
    }
   ],
   "source": [
    "from tensorflow.keras.utils import plot_model\n",
    "plot_model(model_combined, to_file='model_one_hot.png', show_shapes=True, show_layer_names=True)"
   ]
  },
  {
   "cell_type": "code",
   "execution_count": 11,
   "id": "e3ab2dbd",
   "metadata": {},
   "outputs": [],
   "source": [
    "train_headlines = padded_docs_headline[:int(len(padded_docs_headline)*0.8),:]\n",
    "val_headlines = padded_docs_headline[int(len(padded_docs_headline)*0.8):,:]\n",
    "\n",
    "train_bodies = padded_docs_body[:int(len(padded_docs_body)*0.8),:]\n",
    "val_bodies = padded_docs_body[int(len(padded_docs_body)*0.8):,:]\n",
    "\n",
    "train_labels = labels[:int(len(labels)*0.8),:]\n",
    "val_labels = labels[int(len(labels)*0.8):,:]"
   ]
  },
  {
   "cell_type": "code",
   "execution_count": 12,
   "id": "c0582c67",
   "metadata": {},
   "outputs": [
    {
     "name": "stdout",
     "output_type": "stream",
     "text": [
      "Epoch 1/15\n",
      "1250/1250 [==============================] - 134s 105ms/step - loss: 0.6547 - accuracy: 0.7705 - val_loss: 0.5582 - val_accuracy: 0.7991\n",
      "Epoch 2/15\n",
      "1250/1250 [==============================] - 132s 106ms/step - loss: 0.5243 - accuracy: 0.8083 - val_loss: 0.4900 - val_accuracy: 0.8262\n",
      "Epoch 3/15\n",
      "1250/1250 [==============================] - 133s 107ms/step - loss: 0.4558 - accuracy: 0.8377 - val_loss: 0.4443 - val_accuracy: 0.8438\n",
      "Epoch 4/15\n",
      "1250/1250 [==============================] - 132s 106ms/step - loss: 0.4052 - accuracy: 0.8549 - val_loss: 0.4411 - val_accuracy: 0.8486\n",
      "Epoch 5/15\n",
      "1250/1250 [==============================] - 137s 110ms/step - loss: 0.3568 - accuracy: 0.8723 - val_loss: 0.3929 - val_accuracy: 0.8601\n",
      "Epoch 6/15\n",
      "1250/1250 [==============================] - 122s 98ms/step - loss: 0.3196 - accuracy: 0.8860 - val_loss: 0.3884 - val_accuracy: 0.8623\n",
      "Epoch 7/15\n",
      "1250/1250 [==============================] - 123s 99ms/step - loss: 0.2949 - accuracy: 0.8922 - val_loss: 0.4007 - val_accuracy: 0.8611\n",
      "Epoch 8/15\n",
      "1250/1250 [==============================] - 131s 105ms/step - loss: 0.2822 - accuracy: 0.8949 - val_loss: 0.3743 - val_accuracy: 0.8728\n",
      "Epoch 9/15\n",
      "1250/1250 [==============================] - 128s 103ms/step - loss: 0.2605 - accuracy: 0.9050 - val_loss: 0.3643 - val_accuracy: 0.8747\n",
      "Epoch 10/15\n",
      "1250/1250 [==============================] - 127s 101ms/step - loss: 0.2360 - accuracy: 0.9131 - val_loss: 0.3434 - val_accuracy: 0.8867\n",
      "Epoch 11/15\n",
      "1250/1250 [==============================] - 128s 102ms/step - loss: 0.2268 - accuracy: 0.9163 - val_loss: 0.3590 - val_accuracy: 0.8790\n",
      "Epoch 12/15\n",
      "1250/1250 [==============================] - 131s 105ms/step - loss: 0.2088 - accuracy: 0.9227 - val_loss: 0.3610 - val_accuracy: 0.8829\n",
      "Epoch 13/15\n",
      "1250/1250 [==============================] - 129s 103ms/step - loss: 0.1997 - accuracy: 0.9262 - val_loss: 0.3650 - val_accuracy: 0.8855\n",
      "Epoch 14/15\n",
      "1250/1250 [==============================] - 129s 103ms/step - loss: 0.1849 - accuracy: 0.9310 - val_loss: 0.3515 - val_accuracy: 0.8937\n",
      "Epoch 15/15\n",
      "1250/1250 [==============================] - 130s 104ms/step - loss: 0.1719 - accuracy: 0.9349 - val_loss: 0.3564 - val_accuracy: 0.8875\n"
     ]
    },
    {
     "data": {
      "text/plain": [
       "<keras.callbacks.History at 0x1354c2c5060>"
      ]
     },
     "execution_count": 12,
     "metadata": {},
     "output_type": "execute_result"
    }
   ],
   "source": [
    "model_combined.fit([train_headlines,train_bodies],train_labels,epochs=15,verbose=1,validation_data=([val_headlines,val_bodies],val_labels))"
   ]
  },
  {
   "cell_type": "code",
   "execution_count": 20,
   "id": "e8dc89e2",
   "metadata": {},
   "outputs": [
    {
     "name": "stdout",
     "output_type": "stream",
     "text": [
      "Reading dataset\n",
      "Total stances: 25413\n",
      "Total bodies: 904\n"
     ]
    },
    {
     "name": "stderr",
     "output_type": "stream",
     "text": [
      "25413it [00:00, 1812290.19it/s]\n"
     ]
    }
   ],
   "source": [
    "competition_dataset = DataSet(\"competition_test\")\n",
    "\n",
    "competition_df = get_data(competition_dataset.stances,competition_dataset)\n",
    "\n",
    "# one-hot encoding\n",
    "encoded_docs_headline_competition = [one_hot(sentence,vocab_length) for sentence in competition_df.loc[:,'headlines'].tolist()]\n",
    "padded_docs_headline_competition = pad_sequences(encoded_docs_headline_competition,MAX_SEQUENCE_LENGTH_HEADLINE,padding='post')\n",
    "\n",
    "encoded_docs_body_competition = [one_hot(sentence,vocab_length) for sentence in competition_df.loc[:,'bodies'].tolist()]\n",
    "padded_docs_body_competition = pad_sequences(encoded_docs_body_competition,MAX_SEQUENCE_LENGTH_BODY,padding='post')\n",
    "\n",
    "from keras.utils.np_utils import to_categorical \n",
    "labels_competition = to_categorical(competition_df.loc[:,'stances'])"
   ]
  },
  {
   "cell_type": "code",
   "execution_count": 21,
   "id": "215b4d48",
   "metadata": {},
   "outputs": [],
   "source": [
    "preds = model_combined.predict([padded_docs_headline_competition, padded_docs_body_competition])"
   ]
  },
  {
   "cell_type": "code",
   "execution_count": 22,
   "id": "5bcf4610",
   "metadata": {},
   "outputs": [
    {
     "name": "stdout",
     "output_type": "stream",
     "text": [
      "-------------------------------------------------------------\n",
      "|           |   agree   | disagree  |  discuss  | unrelated |\n",
      "-------------------------------------------------------------\n",
      "|   agree   |    409    |    11     |    371    |   1112    |\n",
      "-------------------------------------------------------------\n",
      "| disagree  |    168    |     6     |    116    |    407    |\n",
      "-------------------------------------------------------------\n",
      "|  discuss  |    764    |    33     |   1271    |   2396    |\n",
      "-------------------------------------------------------------\n",
      "| unrelated |   2626    |    149    |   4399    |   11175   |\n",
      "-------------------------------------------------------------\n",
      "Score: 4845.5 out of 11651.25\t(41.58781246647355%)\n"
     ]
    },
    {
     "data": {
      "text/plain": [
       "41.58781246647355"
      ]
     },
     "execution_count": 22,
     "metadata": {},
     "output_type": "execute_result"
    }
   ],
   "source": [
    "predicted = [LABELS[int(np.argmax(a))] for a in preds]\n",
    "actual = [LABELS[int(np.argmax(a))] for a in labels_competition]\n",
    "report_score(actual, predicted)"
   ]
  },
  {
   "cell_type": "code",
   "execution_count": 23,
   "id": "e68ad9ff",
   "metadata": {},
   "outputs": [
    {
     "data": {
      "text/plain": [
       "(0.2700599243359111, 0.27931984077648164)"
      ]
     },
     "execution_count": 23,
     "metadata": {},
     "output_type": "execute_result"
    }
   ],
   "source": [
    "from sklearn.metrics import precision_score, recall_score\n",
    "precision_score(actual,predicted, average='macro'), recall_score(actual,predicted, average='macro')"
   ]
  }
 ],
 "metadata": {
  "kernelspec": {
   "display_name": "Python 3 (ipykernel)",
   "language": "python",
   "name": "python3"
  },
  "language_info": {
   "codemirror_mode": {
    "name": "ipython",
    "version": 3
   },
   "file_extension": ".py",
   "mimetype": "text/x-python",
   "name": "python",
   "nbconvert_exporter": "python",
   "pygments_lexer": "ipython3",
   "version": "3.10.4"
  }
 },
 "nbformat": 4,
 "nbformat_minor": 5
}
