{
 "cells": [
  {
   "cell_type": "markdown",
   "id": "e686f4ab",
   "metadata": {},
   "source": [
    "### MSCI 598 - Final Project\n",
    "### Gaurav Mudbhatkal - 20747018"
   ]
  },
  {
   "cell_type": "code",
   "execution_count": 1,
   "id": "f635436d",
   "metadata": {},
   "outputs": [],
   "source": [
    "import pandas as pd\n",
    "import numpy as np\n",
    "import os\n",
    "from keras.preprocessing.sequence import pad_sequences\n",
    "from keras.preprocessing.text import Tokenizer\n",
    "# from keras.utils import to_categorical,plot_model\n",
    "\n",
    "from keras.models import Input,Model,Sequential\n",
    "from keras.layers import LSTM,Embedding,Dropout,Activation,Reshape,Dense,GRU,Add,Flatten,concatenate,Bidirectional\n",
    "\n",
    "from keras.preprocessing.text import one_hot\n",
    "from keras.preprocessing.sequence import pad_sequences\n",
    "\n",
    "# from keras.utils import to_categorical,plot_model\n",
    "import matplotlib.pyplot as plt\n",
    "from keras.callbacks import ModelCheckpoint"
   ]
  },
  {
   "cell_type": "code",
   "execution_count": 2,
   "id": "611ab5d6",
   "metadata": {},
   "outputs": [
    {
     "name": "stdout",
     "output_type": "stream",
     "text": [
      "Reading dataset\n",
      "Total stances: 49972\n",
      "Total bodies: 1683\n"
     ]
    }
   ],
   "source": [
    "from feature_engineering import refuting_features, polarity_features, hand_features, gen_or_load_feats\n",
    "from feature_engineering import word_overlap_features\n",
    "from feature_engineering import clean, normalize_word, get_tokenized_lemmas, remove_stopwords\n",
    "from utils.dataset import DataSet\n",
    "from utils.generate_test_splits import kfold_split, get_stances_for_folds\n",
    "from utils.score import report_score, LABELS, score_submission\n",
    "\n",
    "from utils.system import parse_params, check_version\n",
    "\n",
    "d = DataSet()"
   ]
  },
  {
   "cell_type": "markdown",
   "id": "23ae322e",
   "metadata": {},
   "source": [
    "#### Data Processing"
   ]
  },
  {
   "cell_type": "code",
   "execution_count": 3,
   "id": "551579a2",
   "metadata": {},
   "outputs": [
    {
     "name": "stderr",
     "output_type": "stream",
     "text": [
      "49972it [00:00, 1668121.19it/s]\n"
     ]
    }
   ],
   "source": [
    "from tqdm import tqdm\n",
    "def get_data(stances, dataset):\n",
    "    h, b, y = [], [], []\n",
    "    for stance in stances:\n",
    "        y.append(LABELS.index(stance['Stance']))\n",
    "        h.append(stance['Headline'])\n",
    "        b.append(dataset.articles[stance['Body ID']])\n",
    "    X = []\n",
    "    headlines = []\n",
    "    bodies = []\n",
    "    for i, (headline, body) in tqdm(enumerate(zip(h, b))):\n",
    "        headlines.append(headline)\n",
    "        bodies.append(body)\n",
    "    df = pd.DataFrame(list(zip(headlines,bodies, y)), columns=['headlines','bodies','stances'])\n",
    "    return df\n",
    "fnc_df = get_data(d.stances,d)"
   ]
  },
  {
   "cell_type": "code",
   "execution_count": 5,
   "id": "fcb0a956",
   "metadata": {},
   "outputs": [],
   "source": [
    "max_features = 5000\n",
    "MAX_NB_WORDS = 24000\n",
    "EMBEDDING_DIM = 50\n",
    "MAX_SEQUENCE_LENGTH = 64"
   ]
  },
  {
   "cell_type": "code",
   "execution_count": 7,
   "id": "4649faf5",
   "metadata": {},
   "outputs": [],
   "source": [
    "GLOVE_DIR = \"glove_embeddings/\"\n",
    "def setup_embedding_index():\n",
    "    embedding_index=dict()\n",
    "    f = open(os.path.join(GLOVE_DIR,\"glove.6B.50d.txt\"),encoding='utf-8')\n",
    "    for line in f:\n",
    "        values = line.split()\n",
    "        word = values[0]\n",
    "        coefs = np.array(values[1:],dtype='float32')\n",
    "        embedding_index[word] = coefs\n",
    "    f.close()\n",
    "    return embedding_index\n",
    "embeddings_index = setup_embedding_index()"
   ]
  },
  {
   "cell_type": "code",
   "execution_count": 8,
   "id": "7e089470",
   "metadata": {},
   "outputs": [
    {
     "name": "stdout",
     "output_type": "stream",
     "text": [
      "3880\n"
     ]
    }
   ],
   "source": [
    "tokenizer_headline = Tokenizer(num_words=max_features, split=' ')\n",
    "tokenizer_headline.fit_on_texts(fnc_df.loc[:,'headlines'].values)\n",
    "vocab_headline_length = len(tokenizer_headline.word_index)+1\n",
    "\n",
    "encoded_docs_headline = tokenizer_headline.texts_to_sequences(fnc_df.loc[:,'headlines'])\n",
    "padded_docs_headline = pad_sequences(encoded_docs_headline, maxlen=16, padding='post')\n",
    "\n",
    "print(vocab_headline_length)\n",
    "word_index_headline = tokenizer_headline.word_index\n",
    "\n",
    "NUM_WORDS_HEADLINE = vocab_headline_length"
   ]
  },
  {
   "cell_type": "code",
   "execution_count": 9,
   "id": "6afc4566",
   "metadata": {},
   "outputs": [
    {
     "name": "stdout",
     "output_type": "stream",
     "text": [
      "27428\n",
      "27428\n"
     ]
    }
   ],
   "source": [
    "tokenizer_body = Tokenizer(num_words=max_features, split=' ')\n",
    "tokenizer_body.fit_on_texts(fnc_df.loc[:,'bodies'].values)\n",
    "vocab_body_length = len(tokenizer_body.word_index)+1\n",
    "\n",
    "encoded_docs_body = tokenizer_body.texts_to_sequences(fnc_df.loc[:,'bodies'])\n",
    "padded_docs_body = pad_sequences(encoded_docs_body, maxlen=200, padding='post')\n",
    "\n",
    "print(vocab_body_length)\n",
    "word_index_body = tokenizer_body.word_index\n",
    "\n",
    "\n",
    "NUM_WORDS_BODY = vocab_body_length\n",
    "print(NUM_WORDS_BODY)"
   ]
  },
  {
   "cell_type": "code",
   "execution_count": 10,
   "id": "d2687060",
   "metadata": {},
   "outputs": [
    {
     "name": "stdout",
     "output_type": "stream",
     "text": [
      "50\n"
     ]
    }
   ],
   "source": [
    "embedding_matrix_headline = np.zeros((NUM_WORDS_HEADLINE, EMBEDDING_DIM))\n",
    "\n",
    "for word, i in tokenizer_headline.word_index.items():\n",
    "    embedding_vector = embeddings_index.get(word)\n",
    "    if embedding_vector is not None:\n",
    "        embedding_matrix_headline[i] = embedding_vector\n",
    "dims = len(embedding_matrix_headline[0])\n",
    "\n",
    "print(dims)"
   ]
  },
  {
   "cell_type": "code",
   "execution_count": 11,
   "id": "a3403b1a",
   "metadata": {},
   "outputs": [
    {
     "name": "stdout",
     "output_type": "stream",
     "text": [
      "50\n"
     ]
    }
   ],
   "source": [
    "embedding_matrix_body = np.zeros((NUM_WORDS_BODY, EMBEDDING_DIM))\n",
    "\n",
    "for word, i in tokenizer_body.word_index.items():\n",
    "    embedding_vector = embeddings_index.get(word)\n",
    "    if embedding_vector is not None:\n",
    "        embedding_matrix_body[i] = embedding_vector\n",
    "dims = len(embedding_matrix_body[0])\n",
    "\n",
    "print(dims)"
   ]
  },
  {
   "cell_type": "code",
   "execution_count": 12,
   "id": "aefe86e3",
   "metadata": {},
   "outputs": [
    {
     "name": "stdout",
     "output_type": "stream",
     "text": [
      "(49972, 16)\n",
      "(49972, 200)\n"
     ]
    }
   ],
   "source": [
    "print(padded_docs_headline.shape)\n",
    "print(padded_docs_body.shape)"
   ]
  },
  {
   "cell_type": "markdown",
   "id": "df6029d6",
   "metadata": {},
   "source": [
    "#### LSTM with separate embedding inputs"
   ]
  },
  {
   "cell_type": "code",
   "execution_count": 23,
   "id": "c340b2c4",
   "metadata": {},
   "outputs": [],
   "source": [
    "input_headline = Input(shape=16,name='input_headline')\n",
    "embedding_layer_headline = Embedding(input_dim = vocab_headline_length,output_dim = 50,\n",
    "                                     weights=[embedding_matrix_headline],\n",
    "                                     input_length = 16,trainable=True)(input_headline)\n",
    "\n",
    "input_body = Input(shape=200,name='input_body')\n",
    "embedding_layer_body = Embedding(input_dim = vocab_body_length,output_dim = 50,weights = [embedding_matrix_body],\n",
    "                                 input_length=200,trainable = True)(input_body)\n",
    "\n",
    "addition_layer = concatenate([embedding_layer_headline,embedding_layer_body],axis=1)\n",
    "lstm = LSTM(units=64,)(addition_layer)\n",
    "drop = Dropout(0.25)(lstm)\n",
    "\n",
    "output = Dense(4,activation='sigmoid')(drop)\n",
    "model = Model(inputs=[input_headline,input_body],outputs=output)\n",
    "model.compile(optimizer = 'adam',loss ='categorical_crossentropy',metrics = ['accuracy'])"
   ]
  },
  {
   "cell_type": "code",
   "execution_count": 24,
   "id": "e0639da3",
   "metadata": {},
   "outputs": [
    {
     "name": "stdout",
     "output_type": "stream",
     "text": [
      "Model: \"model_1\"\n",
      "__________________________________________________________________________________________________\n",
      " Layer (type)                   Output Shape         Param #     Connected to                     \n",
      "==================================================================================================\n",
      " input_headline (InputLayer)    [(None, 16)]         0           []                               \n",
      "                                                                                                  \n",
      " input_body (InputLayer)        [(None, 200)]        0           []                               \n",
      "                                                                                                  \n",
      " embedding_14 (Embedding)       (None, 16, 50)       194000      ['input_headline[0][0]']         \n",
      "                                                                                                  \n",
      " embedding_15 (Embedding)       (None, 200, 50)      1371400     ['input_body[0][0]']             \n",
      "                                                                                                  \n",
      " concatenate_7 (Concatenate)    (None, 216, 50)      0           ['embedding_14[0][0]',           \n",
      "                                                                  'embedding_15[0][0]']           \n",
      "                                                                                                  \n",
      " lstm_17 (LSTM)                 (None, 64)           29440       ['concatenate_7[0][0]']          \n",
      "                                                                                                  \n",
      " dropout_1 (Dropout)            (None, 64)           0           ['lstm_17[0][0]']                \n",
      "                                                                                                  \n",
      " dense_1 (Dense)                (None, 4)            260         ['dropout_1[0][0]']              \n",
      "                                                                                                  \n",
      "==================================================================================================\n",
      "Total params: 1,595,100\n",
      "Trainable params: 1,595,100\n",
      "Non-trainable params: 0\n",
      "__________________________________________________________________________________________________\n"
     ]
    }
   ],
   "source": [
    "model.summary()"
   ]
  },
  {
   "cell_type": "code",
   "execution_count": 25,
   "id": "248925a3",
   "metadata": {
    "scrolled": true
   },
   "outputs": [
    {
     "data": {
      "image/png": "[encoded data removed]",
      "text/plain": [
       "<IPython.core.display.Image object>"
      ]
     },
     "execution_count": 25,
     "metadata": {},
     "output_type": "execute_result"
    }
   ],
   "source": [
    "from tensorflow.keras.utils import plot_model\n",
    "plot_model(model, to_file='model_glove.png', show_shapes=True, show_layer_names=True)"
   ]
  },
  {
   "cell_type": "code",
   "execution_count": 27,
   "id": "d5478168",
   "metadata": {},
   "outputs": [],
   "source": [
    "padded_docs_headline_train = padded_docs_headline[:int(len(padded_docs_headline)*0.9),:]\n",
    "padded_docs_headline_test = padded_docs_headline[int(len(padded_docs_headline)*0.9):,:]\n",
    "\n",
    "padded_docs_body_train = padded_docs_body[:int(len(padded_docs_body)*0.9),:]\n",
    "padded_docs_body_test = padded_docs_body[int(len(padded_docs_body)*0.9):,:]\n",
    "\n",
    "from keras.utils.np_utils import to_categorical \n",
    "labels = to_categorical(fnc_df.loc[:,'stances'])\n",
    "\n",
    "labels_train = labels[:int(len(labels)*0.9),:]\n",
    "labels_test = labels[int(len(labels)*0.9):,:]"
   ]
  },
  {
   "cell_type": "code",
   "execution_count": 26,
   "id": "6d8b39cd",
   "metadata": {},
   "outputs": [],
   "source": [
    "filepath = os.path.join(os.getcwd(),\"{epoch:02d}-{val_accuracy:.2f}.hdf5\")\n",
    "checkpoint = ModelCheckpoint(filepath, monitor='val_accuracy', verbose=1, save_best_only=True, mode='max')"
   ]
  },
  {
   "cell_type": "code",
   "execution_count": 28,
   "id": "5ee2acd8",
   "metadata": {},
   "outputs": [
    {
     "name": "stdout",
     "output_type": "stream",
     "text": [
      "Epoch 1/20\n",
      "1406/1406 [==============================] - 141s 99ms/step - loss: 0.7455 - accuracy: 0.7434 - val_loss: 0.6734 - val_accuracy: 0.7587\n",
      "Epoch 2/20\n",
      "1406/1406 [==============================] - 139s 99ms/step - loss: 0.6335 - accuracy: 0.7759 - val_loss: 0.6106 - val_accuracy: 0.7789\n",
      "Epoch 3/20\n",
      "1406/1406 [==============================] - 149s 106ms/step - loss: 0.5837 - accuracy: 0.7861 - val_loss: 0.5596 - val_accuracy: 0.7947\n",
      "Epoch 4/20\n",
      "1406/1406 [==============================] - 140s 100ms/step - loss: 0.5256 - accuracy: 0.8022 - val_loss: 0.5256 - val_accuracy: 0.8035\n",
      "Epoch 5/20\n",
      "1406/1406 [==============================] - 148s 105ms/step - loss: 0.4847 - accuracy: 0.8188 - val_loss: 0.5043 - val_accuracy: 0.8173\n",
      "Epoch 6/20\n",
      "1406/1406 [==============================] - 152s 108ms/step - loss: 0.4567 - accuracy: 0.8289 - val_loss: 0.4744 - val_accuracy: 0.8303\n",
      "Epoch 7/20\n",
      "1406/1406 [==============================] - 155s 110ms/step - loss: 0.4342 - accuracy: 0.8370 - val_loss: 0.4497 - val_accuracy: 0.8407\n",
      "Epoch 8/20\n",
      "1406/1406 [==============================] - 155s 110ms/step - loss: 0.4082 - accuracy: 0.8462 - val_loss: 0.4509 - val_accuracy: 0.8347\n",
      "Epoch 9/20\n",
      "1406/1406 [==============================] - 154s 109ms/step - loss: 0.3840 - accuracy: 0.8566 - val_loss: 0.4525 - val_accuracy: 0.8495\n",
      "Epoch 10/20\n",
      "1406/1406 [==============================] - 154s 109ms/step - loss: 0.3597 - accuracy: 0.8663 - val_loss: 0.4205 - val_accuracy: 0.8469\n",
      "Epoch 11/20\n",
      "1406/1406 [==============================] - 148s 105ms/step - loss: 0.3403 - accuracy: 0.8741 - val_loss: 0.3972 - val_accuracy: 0.8597\n",
      "Epoch 12/20\n",
      "1406/1406 [==============================] - 150s 106ms/step - loss: 0.3186 - accuracy: 0.8825 - val_loss: 0.3904 - val_accuracy: 0.8603\n",
      "Epoch 13/20\n",
      "1406/1406 [==============================] - 149s 106ms/step - loss: 0.3025 - accuracy: 0.8899 - val_loss: 0.3634 - val_accuracy: 0.8749\n",
      "Epoch 14/20\n",
      "1406/1406 [==============================] - 141s 100ms/step - loss: 0.2813 - accuracy: 0.8971 - val_loss: 0.3501 - val_accuracy: 0.8826\n",
      "Epoch 15/20\n",
      "1406/1406 [==============================] - 148s 105ms/step - loss: 0.2715 - accuracy: 0.9007 - val_loss: 0.3464 - val_accuracy: 0.8864\n",
      "Epoch 16/20\n",
      "1406/1406 [==============================] - 155s 110ms/step - loss: 0.2553 - accuracy: 0.9079 - val_loss: 0.3324 - val_accuracy: 0.8906\n",
      "Epoch 17/20\n",
      "1406/1406 [==============================] - 157s 111ms/step - loss: 0.2433 - accuracy: 0.9097 - val_loss: 0.3477 - val_accuracy: 0.8842\n",
      "Epoch 18/20\n",
      "1406/1406 [==============================] - 163s 116ms/step - loss: 0.2300 - accuracy: 0.9139 - val_loss: 0.3644 - val_accuracy: 0.8762\n",
      "Epoch 19/20\n",
      "1406/1406 [==============================] - 154s 110ms/step - loss: 0.2234 - accuracy: 0.9171 - val_loss: 0.3322 - val_accuracy: 0.8900\n",
      "Epoch 20/20\n",
      "1406/1406 [==============================] - 148s 105ms/step - loss: 0.2069 - accuracy: 0.9235 - val_loss: 0.3199 - val_accuracy: 0.8980\n"
     ]
    }
   ],
   "source": [
    "model_history = model.fit([padded_docs_headline_train,padded_docs_body_train],labels_train,epochs=20,shuffle=True,verbose=1,\n",
    "                          validation_data=([padded_docs_headline_test,padded_docs_body_test],labels_test))"
   ]
  },
  {
   "cell_type": "code",
   "execution_count": 34,
   "id": "f0d47eae",
   "metadata": {},
   "outputs": [
    {
     "name": "stdout",
     "output_type": "stream",
     "text": [
      "Reading dataset\n",
      "Total stances: 25413\n",
      "Total bodies: 904\n"
     ]
    },
    {
     "name": "stderr",
     "output_type": "stream",
     "text": [
      "25413it [00:00, 1498690.24it/s]\n"
     ]
    },
    {
     "name": "stdout",
     "output_type": "stream",
     "text": [
      "Headline Vocab:\n",
      "2623\n",
      "\n",
      "\n",
      "Body Vocab:\n",
      "19914\n",
      "27428\n",
      "\n",
      "\n"
     ]
    }
   ],
   "source": [
    "competition_dataset = DataSet(\"competition_test\")\n",
    "\n",
    "competition_df = get_data(competition_dataset.stances,competition_dataset)\n",
    "\n",
    "## tokenizer\n",
    "comp_headline_tokenizer = Tokenizer(num_words=max_features, split=' ')\n",
    "comp_headline_tokenizer.fit_on_texts(competition_df.loc[:,'headlines'].values)\n",
    "vocab_headline_length_comp = len(comp_headline_tokenizer.word_index)+1\n",
    "\n",
    "encoded_docs_headline_comp = comp_headline_tokenizer.texts_to_sequences(competition_df.loc[:,'headlines'])\n",
    "padded_docs_headline_comp = pad_sequences(encoded_docs_headline_comp, maxlen=16, padding='post')\n",
    "\n",
    "print(\"Headline Vocab:\")\n",
    "print(vocab_headline_length_comp)\n",
    "print(\"\\n\")\n",
    "word_index_headline = comp_headline_tokenizer.word_index\n",
    "NUM_WORDS_HEADLINE_COMP = vocab_headline_length_comp\n",
    "\n",
    "\n",
    "comp_body_tokenizer = Tokenizer(num_words=max_features, split=' ')\n",
    "comp_body_tokenizer.fit_on_texts(competition_df.loc[:,'bodies'].values)\n",
    "vocab_body_length_comp = len(comp_body_tokenizer.word_index)+1\n",
    "\n",
    "encoded_docs_body_comp = comp_body_tokenizer.texts_to_sequences(competition_df.loc[:,'bodies'])\n",
    "padded_docs_body_comp = pad_sequences(encoded_docs_body_comp, maxlen=200, padding='post')\n",
    "\n",
    "print(\"Body Vocab:\")\n",
    "print(vocab_body_length_comp)\n",
    "\n",
    "word_index_body_comp = comp_body_tokenizer.word_index\n",
    "\n",
    "\n",
    "NUM_WORDS_BODY_COMP = vocab_body_length_comp\n",
    "print(NUM_WORDS_BODY)\n",
    "print(\"\\n\")\n",
    "\n",
    "labels_competition = to_categorical(competition_df.loc[:,'stances'])"
   ]
  },
  {
   "cell_type": "code",
   "execution_count": 35,
   "id": "b1ce5438",
   "metadata": {},
   "outputs": [],
   "source": [
    "# len(padded_docs_body_comp)\n",
    "preds = model.predict([padded_docs_headline_comp, padded_docs_body_comp])"
   ]
  },
  {
   "cell_type": "code",
   "execution_count": 36,
   "id": "8180f8ef",
   "metadata": {},
   "outputs": [
    {
     "name": "stdout",
     "output_type": "stream",
     "text": [
      "-------------------------------------------------------------\n",
      "|           |   agree   | disagree  |  discuss  | unrelated |\n",
      "-------------------------------------------------------------\n",
      "|   agree   |    363    |    10     |    309    |   1221    |\n",
      "-------------------------------------------------------------\n",
      "| disagree  |    114    |     1     |    123    |    459    |\n",
      "-------------------------------------------------------------\n",
      "|  discuss  |    860    |     8     |    725    |   2871    |\n",
      "-------------------------------------------------------------\n",
      "| unrelated |   3090    |    42     |   3286    |   11931   |\n",
      "-------------------------------------------------------------\n",
      "Score: 4427.75 out of 11651.25\t(38.002360261774484%)\n"
     ]
    },
    {
     "data": {
      "text/plain": [
       "38.002360261774484"
      ]
     },
     "execution_count": 36,
     "metadata": {},
     "output_type": "execute_result"
    }
   ],
   "source": [
    "predicted = [LABELS[int(np.argmax(a))] for a in preds]\n",
    "actual = [LABELS[int(np.argmax(a))] for a in labels_competition]\n",
    "report_score(actual, predicted)"
   ]
  },
  {
   "cell_type": "code",
   "execution_count": 38,
   "id": "a4b7d7c0",
   "metadata": {},
   "outputs": [
    {
     "data": {
      "text/plain": [
       "(0.24636222752152173, 0.2512056824862502)"
      ]
     },
     "execution_count": 38,
     "metadata": {},
     "output_type": "execute_result"
    }
   ],
   "source": [
    "from sklearn.metrics import precision_score, recall_score\n",
    "precision_score(actual,predicted, average='macro'), recall_score(actual,predicted, average='macro')"
   ]
  },
  {
   "cell_type": "code",
   "execution_count": null,
   "id": "51e94c9d",
   "metadata": {},
   "outputs": [],
   "source": [
    "# results \n",
    "# lens = 16, 48\n",
    "# loss: 0.0400 - accuracy: 0.9863 - val_loss: 0.2911 - val_accuracy: 0.9446\n",
    "# -------------------------------------------------------------\n",
    "# |           |   agree   | disagree  |  discuss  | unrelated |\n",
    "# -------------------------------------------------------------\n",
    "# |   agree   |    356    |     0     |    200    |   1347    |\n",
    "# -------------------------------------------------------------\n",
    "# | disagree  |    129    |     0     |    118    |    450    |\n",
    "# -------------------------------------------------------------\n",
    "# |  discuss  |    424    |     0     |    588    |   3452    |\n",
    "# -------------------------------------------------------------\n",
    "# | unrelated |   2542    |     0     |   2093    |   13714   |\n",
    "# -------------------------------------------------------------\n",
    "# Score: 4590.25 out of 11651.25\t(39.3970604012445%)"
   ]
  }
 ],
 "metadata": {
  "kernelspec": {
   "display_name": "Python 3 (ipykernel)",
   "language": "python",
   "name": "python3"
  },
  "language_info": {
   "codemirror_mode": {
    "name": "ipython",
    "version": 3
   },
   "file_extension": ".py",
   "mimetype": "text/x-python",
   "name": "python",
   "nbconvert_exporter": "python",
   "pygments_lexer": "ipython3",
   "version": "3.10.4"
  }
 },
 "nbformat": 4,
 "nbformat_minor": 5
}
